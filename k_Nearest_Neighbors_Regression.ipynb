{
  "nbformat": 4,
  "nbformat_minor": 0,
  "metadata": {
    "colab": {
      "provenance": [],
      "authorship_tag": "ABX9TyPZX2Uvy2/6rIF6iL0tl4Vw"
    },
    "kernelspec": {
      "name": "python3",
      "display_name": "Python 3"
    },
    "language_info": {
      "name": "python"
    }
  },
  "cells": [
    {
      "cell_type": "code",
      "execution_count": null,
      "metadata": {
        "id": "J51w9nJsZbC0"
      },
      "outputs": [],
      "source": [
        "import matplotlib.pyplot as plt\n",
        "import numpy as np\n",
        "import pandas as pd\n",
        "import sklearn.neighbors\n",
        "\n",
        "# load the data\n",
        "oecd_bli = pd.read_csv(\"oecd_bli_2015.csv\", thousands=',')\n",
        "gdp_per_capita = pd.read_csv(\"gdp_per_capita.csv\", thousands=',', delimiter='\\t', encoding='latin1', na_values=\"n/a\")"
      ]
    },
    {
      "cell_type": "code",
      "source": [
        "# prepare the data\n",
        "country_stas = prepare_country_stats(oecd_bli, gdp_per_capita)\n",
        "x = np.c_[country_stats[\"GDP per capita\"]]\n",
        "y = np.c_[country_stats[\"Life satisfaction\"]]"
      ],
      "metadata": {
        "id": "c2QdNNMCdDWW"
      },
      "execution_count": null,
      "outputs": []
    },
    {
      "cell_type": "code",
      "source": [
        "# visualize the data\n",
        "country_stats.plot(kind='scatter', x=\"GDP per capita\", y=\"Life satisfaction\")\n",
        "plt.show()"
      ],
      "metadata": {
        "id": "9McS-6JXd1uM"
      },
      "execution_count": null,
      "outputs": []
    },
    {
      "cell_type": "code",
      "source": [
        "# select a linear model\n",
        "model = sklearn.neighbors.KNeighborsRegressor(n_neighbors=3)"
      ],
      "metadata": {
        "id": "0Qh8kVubeBzf"
      },
      "execution_count": null,
      "outputs": []
    },
    {
      "cell_type": "code",
      "source": [
        "# train the model\n",
        "model.fit(x,y)"
      ],
      "metadata": {
        "id": "U-76AoUzeJSA"
      },
      "execution_count": null,
      "outputs": []
    },
    {
      "cell_type": "code",
      "source": [
        "# make a prediction for Cyprus\n",
        "x_new = [[22587]]\n",
        "print(model.predict(x_new))"
      ],
      "metadata": {
        "id": "03sjv9G5eMNW"
      },
      "execution_count": null,
      "outputs": []
    }
  ]
}